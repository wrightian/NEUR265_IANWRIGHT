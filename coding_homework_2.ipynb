{
  "nbformat": 4,
  "nbformat_minor": 0,
  "metadata": {
    "colab": {
      "provenance": []
    },
    "kernelspec": {
      "name": "python3",
      "display_name": "Python 3"
    },
    "language_info": {
      "name": "python"
    }
  },
  "cells": [
    {
      "cell_type": "markdown",
      "source": [
        "# Coding Homework #2\n",
        "\n",
        "**Instructions:**\n",
        "\n",
        "1. Make a *Markdown Cell* that contains the following information:\n",
        "- Your name (small header)\n",
        "- The name of this class (italicized)\n",
        "- The date (bolded)\n",
        "\n",
        "2. Make a *Code Cell* that imports <code>numpy</code> as <code>np</code>, <code>matplotlib.pyplot</code> as <code>plt</code>, <code>statistics</code> as <code>st</code>.\n",
        "\n",
        "3. Make a *Code Cell* that imports your <code>v_rest1.csv</code> and <code>v_rest2.csv</code> files as <code>numpy</code> arrays called <code>v_rest1</code> and <code>v_rest2</code> respectively. You're used to doing this with the <code>pd.read_csv</code> function for <code>pandas</code>, but can accomplish the same thing using the <code>np.loadtxt</code> function for <code>numpy</code>.\n",
        "\n",
        "4. Make a *Code Cell* that concatenates <code>v_rest1</code> and <code>v_rest2</code> into a matrix with 2 rows and 13 columns named <code>v_rest</code>.\n",
        "\n",
        "5. Make a *Code Cell* that prints the <code>size</code> of <code>v_rest</code>.\n",
        "\n",
        "6. Make a *Code Cell* that returns the first row of <code>v_rest</code>.\n",
        "\n",
        "7. Make a *Code Cell* that returns the sum of the values in the third column of <code>v_rest</code>. You can accomplish this by using <code>v_rest[].sum()</code>, with your index inside of the brackets. As an example, if I wanted to return the sum of the first row of <code>v_rest</code>, I could use <code>v_rest[0].sum()</code> to get my answer.\n",
        "\n",
        "8. Make a *Code Cell* that returns the second-to-last value in the second row of <code>v_rest</code> (use negative indexing for the column value).\n",
        "\n",
        "9. Create a *Code Cell* that makes a histogram of the values in the first row of <code>v_rest</code> (you can do this by using the <code>plt.hist()</code> function). Label your axes.\n",
        "\n",
        "10. Create a *Code Cell* that takes the mean of the values in the first row of <code>v_rest</code>, and assigns the mean to a variable called <code>v_rest_mean_1</code>. Do the same thing for the second row of <code>v_rest</code>, and assign the mean value of the second row to a variable called <code>v_rest_mean_2</code>. You can get the means by using the <code>st.mean()</code> function (remember to put what you want the mean *of* inside the parentheses of the function).\n",
        "\n",
        "11. Create a *Markdown Cell* that describes the difference in means between the two rows. Which one is bigger?\n",
        "\n",
        "12. How can we test whether the difference in means is *meaningful* (statistically significant)? When we're comparing two means, we can use a t-test (assuming the data are normally distributed). To use a t-test on our data, we will first need to import the <code>scipy</code> package. Create a new *Code Cell* that runs the following:\n",
        "\n",
        "<code>\n",
        "import scipy.stats as stats\n",
        "</code>\n",
        "\n",
        "13. Now, we can perform a t-test on the two rows of <code>v_rest</code>. To do this, create a new *Code Cell* that uses the <code>stats.ttest_ind()</code> function - for example:\n",
        "\n",
        "<code>\n",
        "stats.ttest_ind(row1, row2)\n",
        "</code>\n",
        "\n",
        "Replace <code>row1</code> and <code>row2</code> in this case with the first and second rows, respectively, of <code>v_rest</code>.\n",
        "\n",
        "14. Make a *Markdown Cell* that describes the results of your t-test. You should have <code>statistic</code> variable and a <code>pvalue</code> variable. The way to interpret your p-value is as a probability - specifically, the probability that the mean of one distribution could be found in the second distribution. Typically, results are considered to be \"statistically significant\" if the probability is lower than 5% - or 0.05. What is your p-value? Based on this p-value, do you think it is likely that the means are significantly different, or do you think it is likely that they are not?\n",
        "\n",
        "15. Make sure to add at least one line with a <code>#</code> in front of it to each *Code Cell* to describe what each cell does.\n",
        "\n",
        "16. Save a copy of this notebook to your GitHub repo with the title \"coding_homework_2.ipynb\"."
      ],
      "metadata": {
        "id": "CXEcCBSA_prs"
      }
    },
    {
      "cell_type": "markdown",
      "source": [
        "Ian Wright\n",
        "*NEUR 265*\n",
        "**2/24/2023**"
      ],
      "metadata": {
        "id": "j7cjlN_VkJrZ"
      }
    },
    {
      "cell_type": "code",
      "source": [
        "import numpy as np\n",
        "import matplotlib.pyplot as plt\n",
        "import statistics as st"
      ],
      "metadata": {
        "id": "as3LIKmukOOP"
      },
      "execution_count": null,
      "outputs": []
    },
    {
      "cell_type": "code",
      "source": [
        "#This block was supposed to upload urls with data, but I couldn't figure out how to use the url so I manually inputted it. Variables were created into arrays\n",
        "\n",
        "v_rest10 = [-68.9764016, -66.95983696, -79.89145276, -62.71978283, -72.26913706, -70.7188908, -70.4764719, -72.84431267, -80.73611069, -72.13991165, -75.71680603, -78.87340864, -60.16512638]\n",
        "v_rest1 = np.array(v_rest10)\n",
        "print(v_rest1)\n",
        "\n",
        "v_rest20 = (-73.05247879, -69.53678307, -76.39223557, -70.57814535, -70.65751012, -70.05469513, -78.72971058, -81.60619778, -68.88698741, -61.64662225, -51.55974601, -69.27798898, -69.90729305)\n",
        "v_rest2 = np.array(v_rest20)\n",
        "print(v_rest2)\n"
      ],
      "metadata": {
        "colab": {
          "base_uri": "https://localhost:8080/"
        },
        "id": "LcTc-cYKkjGn",
        "outputId": "2a7531ca-c973-4383-866f-30159aee7b79"
      },
      "execution_count": null,
      "outputs": [
        {
          "output_type": "stream",
          "name": "stdout",
          "text": [
            "[-68.9764016  -66.95983696 -79.89145276 -62.71978283 -72.26913706\n",
            " -70.7188908  -70.4764719  -72.84431267 -80.73611069 -72.13991165\n",
            " -75.71680603 -78.87340864 -60.16512638]\n",
            "[-73.05247879 -69.53678307 -76.39223557 -70.57814535 -70.65751012\n",
            " -70.05469513 -78.72971058 -81.60619778 -68.88698741 -61.64662225\n",
            " -51.55974601 -69.27798898 -69.90729305]\n"
          ]
        }
      ]
    },
    {
      "cell_type": "code",
      "source": [
        "#This code block turned the two other arrays into a new array combined into 2 rows with 13 collumns\n",
        "\n",
        "v_rest = np.array([v_rest1,v_rest2],dtype='int')\n",
        "\n",
        "print(v_rest)"
      ],
      "metadata": {
        "colab": {
          "base_uri": "https://localhost:8080/"
        },
        "id": "Rk8ifLETxZ-c",
        "outputId": "123dfb32-998e-4e86-a263-b27f7aaa10ab"
      },
      "execution_count": null,
      "outputs": [
        {
          "output_type": "stream",
          "name": "stdout",
          "text": [
            "[[-68 -66 -79 -62 -72 -70 -70 -72 -80 -72 -75 -78 -60]\n",
            " [-73 -69 -76 -70 -70 -70 -78 -81 -68 -61 -51 -69 -69]]\n"
          ]
        }
      ]
    },
    {
      "cell_type": "code",
      "source": [
        "#printed size of array\n",
        "size = np.size(v_rest)\n",
        "print(size)"
      ],
      "metadata": {
        "colab": {
          "base_uri": "https://localhost:8080/"
        },
        "id": "HpFakfJRwcEk",
        "outputId": "6eb95abd-2b41-4743-bb90-cf20f95f23bb"
      },
      "execution_count": null,
      "outputs": [
        {
          "output_type": "stream",
          "name": "stdout",
          "text": [
            "26\n"
          ]
        }
      ]
    },
    {
      "cell_type": "code",
      "source": [
        "#printed first row of array\n",
        "print(v_rest[0])"
      ],
      "metadata": {
        "colab": {
          "base_uri": "https://localhost:8080/"
        },
        "id": "wIiCrzF0w1yd",
        "outputId": "395a58fc-1c51-409b-d920-acd534f1a135"
      },
      "execution_count": null,
      "outputs": [
        {
          "output_type": "stream",
          "name": "stdout",
          "text": [
            "[-68 -66 -79 -62 -72 -70 -70 -72 -80 -72 -75 -78 -60]\n"
          ]
        }
      ]
    },
    {
      "cell_type": "code",
      "source": [
        "#printed the sum of the third columb\n",
        "print(v_rest[:,2].sum())"
      ],
      "metadata": {
        "colab": {
          "base_uri": "https://localhost:8080/"
        },
        "id": "7FG8hlXK4JFo",
        "outputId": "44e35991-75a2-4341-8efe-5d84bd35e6bd"
      },
      "execution_count": null,
      "outputs": [
        {
          "output_type": "stream",
          "name": "stdout",
          "text": [
            "-155\n"
          ]
        }
      ]
    },
    {
      "cell_type": "code",
      "source": [
        "#printed the second to last value of the second row\n",
        "print(v_rest[1,-2])"
      ],
      "metadata": {
        "colab": {
          "base_uri": "https://localhost:8080/"
        },
        "id": "RBJCV5mY4azI",
        "outputId": "6dececf9-bd7a-4486-bfae-b7d7f9bafe37"
      },
      "execution_count": null,
      "outputs": [
        {
          "output_type": "stream",
          "name": "stdout",
          "text": [
            "-69\n"
          ]
        }
      ]
    },
    {
      "cell_type": "code",
      "source": [
        "#printed a histogram of the first row and made axis titles\n",
        "plt.xlabel('axis 1')\n",
        "plt.ylabel('axis 2')\n",
        "plt.hist(v_rest[0])"
      ],
      "metadata": {
        "colab": {
          "base_uri": "https://localhost:8080/",
          "height": 333
        },
        "id": "_vhrETTq46D5",
        "outputId": "1aa534e9-8188-4d2b-f50c-a40fa62caef6"
      },
      "execution_count": null,
      "outputs": [
        {
          "output_type": "execute_result",
          "data": {
            "text/plain": [
              "(array([2., 1., 1., 0., 3., 2., 1., 1., 0., 2.]),\n",
              " array([-80., -78., -76., -74., -72., -70., -68., -66., -64., -62., -60.]),\n",
              " <BarContainer object of 10 artists>)"
            ]
          },
          "metadata": {},
          "execution_count": 224
        },
        {
          "output_type": "display_data",
          "data": {
            "text/plain": [
              "<Figure size 432x288 with 1 Axes>"
            ],
            "image/png": "[encoded data removed]"
          },
          "metadata": {
            "needs_background": "light"
          }
        }
      ]
    },
    {
      "cell_type": "code",
      "source": [
        "#printed the mean of the two rows\n",
        "v_rest_mean_1 = np.mean(v_rest[0])\n",
        "print(v_rest_mean_1)\n",
        "v_rest_mean_2 = np.mean(v_rest[1])\n",
        "print(v_rest_mean_2)\n"
      ],
      "metadata": {
        "colab": {
          "base_uri": "https://localhost:8080/"
        },
        "id": "rv2AMlKx6JZy",
        "outputId": "76aa174e-21d5-481a-b176-2b3d969437bf"
      },
      "execution_count": null,
      "outputs": [
        {
          "output_type": "stream",
          "name": "stdout",
          "text": [
            "-71.07692307692308\n",
            "-69.61538461538461\n"
          ]
        }
      ]
    },
    {
      "cell_type": "code",
      "source": [
        "#importing scipy stats\n",
        "import scipy.stats as stats"
      ],
      "metadata": {
        "id": "4oTFwHGp9Xbz"
      },
      "execution_count": null,
      "outputs": []
    },
    {
      "cell_type": "markdown",
      "source": [
        "The mean of the first row is more negative than the mean of the second row"
      ],
      "metadata": {
        "id": "DfRgO4sV9QHI"
      }
    },
    {
      "cell_type": "code",
      "source": [
        "#making a t-test combaring the two rows\n",
        "stats.ttest_ind(v_rest[0], v_rest[1])"
      ],
      "metadata": {
        "colab": {
          "base_uri": "https://localhost:8080/"
        },
        "id": "xZqkF9Qv9Ymy",
        "outputId": "c70e13cd-dc1b-4854-95cf-17ecf9e35288"
      },
      "execution_count": null,
      "outputs": [
        {
          "output_type": "execute_result",
          "data": {
            "text/plain": [
              "Ttest_indResult(statistic=-0.5435230893060939, pvalue=0.5917830778136396)"
            ]
          },
          "metadata": {},
          "execution_count": 249
        }
      ]
    },
    {
      "cell_type": "markdown",
      "source": [
        "\n",
        "The p-value is over 0.5, it is actually pretty big. Normally a significant p-value is below 0.05, so this is not statistically significant. This makes sense because the data sets were so close together."
      ],
      "metadata": {
        "id": "KVvEEIh39s2X"
      }
    }
  ]
}