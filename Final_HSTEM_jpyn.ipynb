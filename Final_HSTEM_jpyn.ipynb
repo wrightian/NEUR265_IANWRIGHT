{
  "nbformat": 4,
  "nbformat_minor": 0,
  "metadata": {
    "colab": {
      "provenance": []
    },
    "kernelspec": {
      "name": "python3",
      "display_name": "Python 3"
    },
    "language_info": {
      "name": "python"
    }
  },
  "cells": [
    {
      "cell_type": "markdown",
      "source": [
        "#Ian Wright HSTEM Interview Project.#\n",
        "\n",
        "To load a code cell, press the arrow."
      ],
      "metadata": {
        "id": "gRysOyEmInPW"
      }
    },
    {
      "cell_type": "code",
      "source": [
        "#@title\n",
        "question = input('Ask me who I am.\\n')\n",
        "if question == \"Who are you?\": \n",
        "  print(\"I am a female software development consultant, and I am Ian's mother.\")\n",
        "else:\n",
        "  print(\"Ask 'Who are you?'.\\n\")"
      ],
      "metadata": {
        "colab": {
          "base_uri": "https://localhost:8080/"
        },
        "cellView": "form",
        "id": "VNm47LDJI72V",
        "outputId": "33c81a16-5a1b-49cb-d6f3-e2e64d1a8205"
      },
      "execution_count": 4,
      "outputs": [
        {
          "output_type": "stream",
          "name": "stdout",
          "text": [
            "Ask me who I am.\n",
            "Who are you?\n",
            "I am a female software development consultant, and I am Ian's mother.\n"
          ]
        }
      ]
    },
    {
      "cell_type": "code",
      "source": [
        "#@title\n",
        "print(\"A few things you can ask me:\")\n",
        "print(\"How would you describe your career?\")\n",
        "print(\"What did you do before you started working in STEM?\")\n",
        "print(\"What was your first experience with STEM?\")\n",
        "print(\"What was your perception of scientists as a child?\")\n",
        "print(\"What do you like about programming?\")\n",
        "print(\"What do you not like about programming?\")\n",
        "print(\"How has being a member of an underrepresented group affected your experience in STEM?\")\n",
        "print(\"What aspects of STEM culture contribute to the observed lack of diversity?\")\n",
        "print(\"What advice would you give to make STEM more accessible?\")\n",
        "print(\"What do you do for fun?\")\n",
        "question = input('\\nAsk a question.\\n')\n",
        "if question == \"How would you describe your career?\":\n",
        "  print(\"\\nI would describe my position the same way regardless of whether I was talking to someone \\n ith a technical background or not. However, with respect to the client site where I am \\n currently assigned, I would tell a peer that I am doing “native Android development,” but would \\n tell anyone else that I am “working on an Android app.” One big decision that organizations \\n need to make about their mobile apps is whether they want to support both Android and iOS \\n with 2 separate code bases, one for Android written in Kotlin and/or Java and one for iOS \\n written in Swift or ObjectiveC. This is called “native” development for each platform. The \\n alternative is to use a product like Flutter, which allows the organization to use the same \\n codebase for both platforms; it generates native Android code and native iOS code from that \\n single code base. \\n \\n I would further explain to a peer that my team focuses on what is known as “cross-cutting \\n concerns” as opposed to feature development. Feature teams work on adding new business \\n functionality, like the ability to deposit checks electronically, or the ability to make an \\n appointment with a financial advisor through the app. A cross-cutting concern is something \\n needed by multiple feature teams, like logging errors.\")\n",
        "elif question == \"What did you do before you started working in STEM?\":\n",
        "  print (\"\\nI was identified as a writer in first grade after sharing poems I had written with my teacher. I \\n went on to write plays my classes performed in elementary school, and edited my high school \\n newspaper, literary magazine and theater playbill in high school. In college, I designed a \\n custom major called “Writing: Theory and Practice” that included both creative and expository \\n writing courses, and I was the editor-in-chief of a journal for student fiction and non-fiction. As \\n a recent graduate, I worked as the editor in chief for a small community newspaper serving \\n one neighborhood, and then through my late 20’s worked as a columnist and managing editor \\n for a much larger community newspaper that covered center city Philadelphia and several \\n adjacent areas. \\n\\n In my late twenties, I was very proud of the trajectory of my career. I felt like I had not made a \\n single false step and was on the path to a high-visibility position at a high-profile publication. \\n After several years of working as a community journalist, I was poised to take the next step, \\n which I thought would be an editorial position as a glossy magazine. Not long after I sent out \\n my resume and writing samples, I started getting calls for interviews. \\n\\n At that time my husband pointed out to me that I didn’t sound excited about my future \\n prospects, even though I was well on my way to doing what I had always thought I wanted to \\n do, and for the first time in my life, I questioned whether I wanted to be a professional writer. \\n I realized that writing under the pressure of regular deadlines felt repressive, something I had \\n never let myself think about, because it never occurred to me that I might have any other kind \\n of job.\")\n",
        "elif question == \"What was your first experience with STEM?\":\n",
        "  print (\"\\nI had experience with STEM in both elementary school and secondary school too, and I \\n enjoyed them. But I didn’t give them much of a second thought because I “knew” I was going \\n to be a writer. For example, a friend and I won first place at our school science fair with our \\n guinea pig genetics project when we were in 4th grade. Many of the classrooms had guinea pigs \\n as class pets, and we traced all the guinea pig family trees to verify what we had read about \\n Mendel’s laws. It was exciting for us to see that whenever both parents had smooth hair – a \\n recessive trait – all of the offspring had smooth hair, but that when one parent had smooth \\n hair and one parent had \\n smooth hair, some of the offspring had rough hair and some had smooth hair. \\n\\n I took a computer programming class in high school, not because I was interested in \\n programming at the time, but because a friend and I wanted to take a class together, and it \\n was the only elective that fit into both of our schedules. As it turned out, I thoroughly enjoyed \\n it, and my friend and I, both girls, were the only two students who got A’s on the final. It would \\n be decades before I would look back at my experience in that class, think about how much \\n fun I had writing the programs we were assigned, and wonder what it might be like to get paid \\n to write programs all day.\")\n",
        "elif question == \"What was your perception of scientists as a child?\":\n",
        "  print (\"\\nI loved reading biographies of scientists. I took a thick book out of the school library called \\n “Great Men of Science” week after week. I was fascinated by toneshe life stories and ideas of \\n Nicolaus Copernicus, Gallileo Galliei, Louis Pasteur and Jonas Salk. On some level, I must \\n have noticed that the only woman represented in the science biography section of our library \\n was Marie Curie, but I don’t remember reflecting on it much or being bothered by it. In \\n retrospect, I wonder if I might have considered a career in science if there had been more \\n books about women in science in my elementary school library.\")\n",
        "elif question == \"What do you like about programming?\":\n",
        "  print(\"\\nI like that programming always involves learning something new. It never gets stale. There are \\n always new languages and technologies to learn. I enjoy tinkering. When new technologies \\n come out, I enjoy trying them out. \\n\\n I also love running the programs I write. I’ve been a programmer for nearly 3 decades now, \\n and every day, I still get excited when I issue the “run” command after writing some code and \\n get to see the code executing.\")\n",
        "elif question == \"What do you not like about programming?\":\n",
        "  print(\"\\nOne thing that bothers me about programming is that the tools of my trade are so bad for the \\n environment, from the laptop batteries and 24-inch monitors that are littering landfills to the \\n clusters or servers that require immense amounts of energy to prevent overheating. I have \\n recently started researching ways that I can change my development practice so that the \\n code I write will leave a smaller carbon footprint.\")\n",
        "elif question == \"How has being a member of an underrepresented group affected your experience in STEM?\":\n",
        "  print(\"\\nI consider myself a member of two underrepresented groups, women and older people.\\n I am nearly 60 years old.\\n\\n Many of the people I work with are decades younger. Currently I am one of two women out of \\n 33 technical consultants. There were years when I was the only female developer. In the 20 \\n years I have been with this firm I have never had more than 3 female colleagues. \\n\\n The culture at the consulting firm where I work is male-oriented in such a stereotypical way, \\n it's almost comical. For example, company-sponsored team-building activities have included: \\n cigar rolling, skeet shooting, craft beer brewing, golfing, ax throwing, Texas hold-em \\n tournament and a LAN party (a local area network party: connecting everyone's computer for \\n a night of video gaming. \\n\\n While I have a good rapport with all of my colleagues, and I enjoy eating lunch with them, I \\n don't see any of them outside of work. Many of the others do socialize with each other and \\n their families. \\n\\n Our Chief Marketing Officer, who is a woman, felt she had to take golf lessons, so she would \\n not miss out on the conversations the rest of our management team was having on the golf \\n course, and because she likewise felt putting and driving skills were essential to closing sales \\n deals in the industry. \\n\\n I am lucky in that I have never experienced sexism or ageism from my colleagues at the \\n consultancy where I work. That is, when I collaborate on projects, I feel \\n like I am on equal footing with them. But I have had to contend with both sexism and ageism \\n at client sites where I have served as a consultant.\")\n",
        "elif question == \"What aspects of STEM culture contribute to the observed lack of diversity?\":\n",
        "  print(\"\\nWhile there are some positive characteristics about the culture of STEM, like valuing curiosity \\n and encouraging experimentation, I have also been assigned to client sites where the mostly \\n or exlusively male development team and techinical maagers discourage developers from \\n asking questions by answering in a condescending manner. The sterotypical man would \\n rather get lost than ask for directions, and I have worked with many male programmers who \\n seem to think it is a sign of weakness to read the directions. It has happened numerous times \\n that a male programmer has asked for my help when a tool he has tried to install does not \\n work properly, and I was able to fix the problem in a very short time after reading the \\n directions. \\n\\n I have also encountered immaturity and misogyny. When I was analyzing the source code for \\n a framework for writing online multiplayer games for a confrence talk about game \\n development, I came across a section of well written code that I wanted to put on one of my \\n powerpoint slides and use as an example - but unfortuantely, several of the variables were \\n named after parts of female anatomy. I emailed the auther of the framework and asked him to \\n change the names, but he refused. I had to find a different game framework to focus on in my \\n talk. \\n\\n It's like a vicious cycle - the ratio of men to women is so unbalanced that the field as a whole \\n is plagued with some negative behaviors that are more often associated with men than \\n women, which in turn makes the field less welcoming for for women, which in turn makes the \\n ratio of men to women even more one-sided. \\n\\n I think even the fact that the act of programming is often referred to ask 'coding' contributes to \\n the gender disparity. The term 'code' implies that programs consist of a series of cryptic \\n symbols as opposed to anything that resembles language or words. However, while lines of \\n lower-level languages like Assembly Language (LDA A #CTLREG SET 8 BITS AND 2 STOP), \\n look alientating - modern higher-level languages are human-readable, like Ruby (unless \\n user.isUnauthorized() displayDashboard()), and can even be expressive. I think it's possible \\n that more women might try programming if they knew that modern programming languages \\n are not unfriendly.\")\n",
        "elif question == \"What advice would you give to make STEM more accessible?\":\n",
        "  print(\"\\When a new technology comes out, experienced programmers have an edge because they \\n have a broader background to draw on as a frame of reference, but there's also a sense in \\n which everbody has a near-equal opportunity to be an early adopter and get a head start on \\n becoming an expert. I got in on the group floor when the RUby-on-Rails web development \\n framework was introduced in 2005. I read-about it in a trade magazine and did an online \\n tutorial for fun one vening at home. The next week, a prospective client contacted our \\n consultancy and by 2007, I was speaking at Ruby-on-Rails conferences. If women didn't feel \\n that they were too far behind men who got started with programming as boys, more women \\n might consider programming as a career. \\n\\n In 2007, when I spoke at RubyConf, the largest annual gathering of Ruby developers, I was \\n the only female speaker, and the first woman to speak at the event in its 10 year history. On a \\n mailing list for women in software development that I am on, there was a long thread about \\n the 'Daves-to-girls' ratio: so many women posted about conferences where there were more \\n Daves and Davids on the roster than women. These past few years, some popular \\n conference speakers have started using their visiblity to help make conference rosters more \\n diverse by refusing to speak at conferences if no underrepresented groups were included in \\n the roster. \\n\\n Organization can help counter the perception that programming is only for boys. Founded by \\n one of my co-workers, TechGirlz offerrs free workshops and calsses exclusively to \\n middle-school-aged girls to give them their own experiences with web programming, iphone \\n and Android development, database programming, machine learning, augmented reality \\n before they have internalized the message so pervasive in our culture that programming is not \\n a viable option for girls. \\n\\n It also helps that some code boot camps offer scholarships to students in groups that are \\n underrepresented in tech, and I have seen a slight increase in the number of companies that \\n offer apprenticeship and mentorship programs to help those in underrepresented groups get \\n started. These scholarships and mentorships are not only important because many in \\n underrepresented groups do not have connections to hiring managers in the field, but also \\n because they are more likely to have trouble affording tuition or purchasing devices such as \\n VR headsets.\")\n",
        "elif question == \"What do you do for fun?\":\n",
        "  print(\"I participate in a couple of Yiddish discussion and reading groups. Yiddish was my mother's \\n first language. She came to the United States from Poland when she was 9. \\n\\n I am fascinated by rhyme. I even wrote term papers in rhyme through high school and college \\n I am particularly proud a paper I wrote abouts the definition of mammals for an anthropology \\n class. It has some great rhymes in it: occlude and food, dinosaur and herbivore, placoderm \\n and angiosperm... \\n\\n I am also proud of the lyrics I wrote for a marionette musical.\")"
      ],
      "metadata": {
        "colab": {
          "base_uri": "https://localhost:8080/"
        },
        "cellView": "form",
        "id": "cgDGX9xCum5i",
        "outputId": "6f805876-3076-429b-aa8e-0029b71782c4"
      },
      "execution_count": 5,
      "outputs": [
        {
          "output_type": "stream",
          "name": "stdout",
          "text": [
            "A few things you can ask me:\n",
            "How would you describe your career?\n",
            "What did you do before you started working in STEM?\n",
            "What was your first experience with STEM?\n",
            "What was your perception of scientists as a child?\n",
            "What do you like about programming?\n",
            "What do you not like about programming?\n",
            "How has being a member of an underrepresented group affected your experience in STEM?\n",
            "What aspects of STEM culture contribute to the observed lack of diversity?\n",
            "What advice would you give to make STEM more accessible?\n",
            "What do you do for fun?\n",
            "\n",
            "Ask a question.\n",
            "How would you describe your career?\n",
            "\n",
            "I would describe my position the same way regardless of whether I was talking to someone \n",
            " ith a technical background or not. However, with respect to the client site where I am \n",
            " currently assigned, I would tell a peer that I am doing “native Android development,” but would \n",
            " tell anyone else that I am “working on an Android app.” One big decision that organizations \n",
            " need to make about their mobile apps is whether they want to support both Android and iOS \n",
            " with 2 separate code bases, one for Android written in Kotlin and/or Java and one for iOS \n",
            " written in Swift or ObjectiveC. This is called “native” development for each platform. The \n",
            " alternative is to use a product like Flutter, which allows the organization to use the same \n",
            " codebase for both platforms; it generates native Android code and native iOS code from that \n",
            " single code base. \n",
            " \n",
            " I would further explain to a peer that my team focuses on what is known as “cross-cutting \n",
            " concerns” as opposed to feature development. Feature teams work on adding new business \n",
            " functionality, like the ability to deposit checks electronically, or the ability to make an \n",
            " appointment with a financial advisor through the app. A cross-cutting concern is something \n",
            " needed by multiple feature teams, like logging errors.\n"
          ]
        }
      ]
    }
  ]
}